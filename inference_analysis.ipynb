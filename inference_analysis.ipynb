{
 "cells": [
  {
   "cell_type": "code",
   "execution_count": null,
   "id": "ebd0b398",
   "metadata": {},
   "outputs": [],
   "source": [
    "import pandas as pd\n",
    "from scipy import stats\n",
    "import numpy as np\n",
    "import matplotlib.pyplot as plt\n",
    "import pingouin as pg\n",
    "import seaborn as sns\n",
    "import pprint\n",
    "from scipy import stats\n",
    "import statsmodels.formula.api as smf"
   ]
  },
  {
   "cell_type": "code",
   "execution_count": null,
   "id": "42dcb54f",
   "metadata": {},
   "outputs": [],
   "source": [
    "pd.set_option('display.max_columns', None)\n",
    "pd.set_option('display.max_rows', None)\n",
    "pd.set_option('display.max_colwidth', None)"
   ]
  },
  {
   "cell_type": "code",
   "execution_count": null,
   "id": "583eca87",
   "metadata": {},
   "outputs": [],
   "source": [
    "title_text_metagenres_metascore_df = pd.read_hdf(\"./data/out/title_metasummary_metagenres_metascore_random_criteria_20240404-163802_multilabel_big.h5\")\n",
    "title_text_metagenres_metascore_df['meta_score'] = pd.to_numeric(title_text_metagenres_metascore_df['meta_score'])"
   ]
  },
  {
   "cell_type": "code",
   "execution_count": null,
   "id": "19c6dfdd",
   "metadata": {},
   "outputs": [],
   "source": [
    "title_text_metagenres_metascore_df['meta_score'].hist()"
   ]
  },
  {
   "cell_type": "code",
   "execution_count": null,
   "id": "080e3032",
   "metadata": {},
   "outputs": [],
   "source": [
    "df_z = title_text_metagenres_metascore_df.select_dtypes(include=[np.number]).dropna().apply(stats.zscore)\n",
    "\n",
    "start = 'Q(\"'\n",
    "end = '\")'\n",
    "high_low_inference_criteria_qued = [\"{}{}{}\".format(start,i,end) for i in list(title_text_metagenres_metascore_df.columns)[4:]]\n",
    "\n",
    "independent_variables_formula = '+'.join(high_low_inference_criteria_qued)\n",
    "\n",
    "# fitting regression\n",
    "formula = 'Q(\"meta_score\") ~ ' + independent_variables_formula\n",
    "result = smf.ols(formula, data=df_z).fit()\n",
    "\n",
    "# checking results\n",
    "print(result.summary())"
   ]
  },
  {
   "cell_type": "code",
   "execution_count": null,
   "id": "a5e3bade",
   "metadata": {},
   "outputs": [],
   "source": [
    "list(title_text_metagenres_metascore_df.columns)[4:]"
   ]
  },
  {
   "cell_type": "code",
   "execution_count": null,
   "id": "9701667b",
   "metadata": {},
   "outputs": [],
   "source": [
    "ax = sns.regplot(data=title_text_metagenres_metascore_df, x='real', y='meta_score')"
   ]
  },
  {
   "cell_type": "code",
   "execution_count": null,
   "id": "75497e37",
   "metadata": {},
   "outputs": [],
   "source": [
    "title_text_metagenres_metascore_df.corr(numeric_only=True)['meta_score'][1:]"
   ]
  },
  {
   "cell_type": "code",
   "execution_count": null,
   "id": "cc63c20f",
   "metadata": {},
   "outputs": [],
   "source": [
    "title_text_metagenres_metascore_df[title_text_metagenres_metascore_df['anthropogenic']<0.1]"
   ]
  },
  {
   "cell_type": "code",
   "execution_count": null,
   "id": "b205b796",
   "metadata": {},
   "outputs": [],
   "source": [
    "meta_genres = title_text_metagenres_metascore_df[\"meta_genres\"].explode().unique()\n",
    "meta_genres = meta_genres[~pd.isnull(meta_genres)]"
   ]
  },
  {
   "cell_type": "code",
   "execution_count": null,
   "id": "8317ab13",
   "metadata": {},
   "outputs": [],
   "source": [
    "meta_genres"
   ]
  },
  {
   "cell_type": "code",
   "execution_count": null,
   "id": "58659ec6",
   "metadata": {},
   "outputs": [],
   "source": [
    "dict_of_genre_dfs = {}\n",
    "for genre in meta_genres:\n",
    "    genre_df = title_text_metagenres_metascore_df[\n",
    "        title_text_metagenres_metascore_df.meta_genres.apply(lambda x: genre in x)]\n",
    "    dict_of_genre_dfs[genre] = genre_df"
   ]
  },
  {
   "cell_type": "code",
   "execution_count": null,
   "id": "36b8d5db",
   "metadata": {},
   "outputs": [],
   "source": [
    "for criterion in list(title_text_metagenres_metascore_df.columns)[4:]:\n",
    "    display(criterion)\n",
    "    for genre, genre_df in dict_of_genre_dfs.items():\n",
    "        try:\n",
    "            display(genre, pg.corr(genre_df[criterion], genre_df['meta_score']).round(3))\n",
    "        except ValueError:\n",
    "            pass"
   ]
  },
  {
   "cell_type": "code",
   "execution_count": null,
   "id": "c472c129",
   "metadata": {},
   "outputs": [],
   "source": [
    "dict_of_genre_dfs['Action'].sort_values('meta_score', ascending=False)"
   ]
  },
  {
   "cell_type": "code",
   "execution_count": null,
   "id": "202aedda",
   "metadata": {},
   "outputs": [],
   "source": [
    "dict_of_genre_dfs['Sci-Fi'].sort_values('meta_score', ascending=False)"
   ]
  },
  {
   "cell_type": "code",
   "execution_count": null,
   "id": "bf1eb8df",
   "metadata": {},
   "outputs": [],
   "source": []
  }
 ],
 "metadata": {
  "kernelspec": {
   "display_name": "Python 3 (ipykernel)",
   "language": "python",
   "name": "python3"
  },
  "language_info": {
   "codemirror_mode": {
    "name": "ipython",
    "version": 3
   },
   "file_extension": ".py",
   "mimetype": "text/x-python",
   "name": "python",
   "nbconvert_exporter": "python",
   "pygments_lexer": "ipython3",
   "version": "3.11.5"
  }
 },
 "nbformat": 4,
 "nbformat_minor": 5
}
