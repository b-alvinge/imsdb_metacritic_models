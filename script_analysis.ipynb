{
 "cells": [
  {
   "cell_type": "code",
   "execution_count": null,
   "id": "ebd0b398",
   "metadata": {},
   "outputs": [],
   "source": [
    "import pandas as pd"
   ]
  },
  {
   "cell_type": "code",
   "execution_count": null,
   "id": "f65e0850",
   "metadata": {},
   "outputs": [],
   "source": [
    "pd.set_option('display.max_columns', None)\n",
    "pd.set_option('display.max_rows', None)\n",
    "pd.set_option('display.max_colwidth', None)"
   ]
  },
  {
   "cell_type": "code",
   "execution_count": null,
   "id": "c7f704e8",
   "metadata": {},
   "outputs": [],
   "source": [
    "title_script_summary_genres_score_df = pd.read_hdf(\"./data/in/title_script_summary_genres_score.h5\")"
   ]
  },
  {
   "cell_type": "code",
   "execution_count": null,
   "id": "3e9c1140",
   "metadata": {},
   "outputs": [],
   "source": [
    "title_script_summary_genres_score_df.iloc[0]['script']"
   ]
  },
  {
   "cell_type": "code",
   "execution_count": null,
   "id": "583eca87",
   "metadata": {},
   "outputs": [],
   "source": [
    "title_script_aq_df = pd.read_hdf(\"./data/out/title_script_aesthetic_qualities.h5\")"
   ]
  },
  {
   "cell_type": "code",
   "execution_count": null,
   "id": "0e30727d",
   "metadata": {},
   "outputs": [],
   "source": [
    "title_script_aq_df.head(2000)"
   ]
  }
 ],
 "metadata": {
  "kernelspec": {
   "display_name": "Python 3 (ipykernel)",
   "language": "python",
   "name": "python3"
  },
  "language_info": {
   "codemirror_mode": {
    "name": "ipython",
    "version": 3
   },
   "file_extension": ".py",
   "mimetype": "text/x-python",
   "name": "python",
   "nbconvert_exporter": "python",
   "pygments_lexer": "ipython3",
   "version": "3.11.5"
  }
 },
 "nbformat": 4,
 "nbformat_minor": 5
}
